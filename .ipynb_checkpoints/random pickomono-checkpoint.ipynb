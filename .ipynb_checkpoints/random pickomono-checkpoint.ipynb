{
 "cells": [
  {
   "cell_type": "code",
   "execution_count": 2,
   "metadata": {},
   "outputs": [
    {
     "name": "stdout",
     "output_type": "stream",
     "text": [
      "well done, you scored 27 points with the values :[3, 3, 5, 5, 1, 6, 6]\n"
     ]
    }
   ],
   "source": [
    "#todo player worms need to be exact\n",
    "#todo worm is required\n",
    "\n",
    "import random\n",
    "\n",
    "random.seed(0)\n",
    "rolls = [0]*8\n",
    "dice = 8\n",
    "score = 0\n",
    "taken = []\n",
    "dice_taken = []\n",
    "stop = False\n",
    "available_pieces = range(21,37)\n",
    "failed = False\n",
    "\n",
    "def throw():\n",
    "    global dice\n",
    "    global score\n",
    "    # throw the dice\n",
    "    rolls = [random.randint(1, 6) for i in range(dice)]\n",
    "\n",
    "    # if all the die have already been taken or no die is left stop the players turn \n",
    "    if rolls in taken or dice == 0:\n",
    "        return 0\n",
    "    \n",
    "    # choose a die that has not yet been taken\n",
    "    chosen = -1\n",
    "    while chosen == -1 or rolls[chosen] in taken:\n",
    "        chosen = random.randint(0, dice-1)\n",
    "    taken.append(rolls[chosen])\n",
    "\n",
    "    #count the number of points that have been earned\n",
    "    for i in range(dice):\n",
    "        if rolls[i] == rolls[chosen]:\n",
    "            dice -= 1\n",
    "            score += rolls[chosen] if rolls[chosen] < 6 else 5 # number 6 is the worm which is worth 5 points\n",
    "            dice_taken.append(rolls[chosen])\n",
    "    return 1\n",
    "\n",
    "while not stop:\n",
    "    success = throw()\n",
    "    if success == 0:\n",
    "        stop = True\n",
    "        failed = True\n",
    "    else:\n",
    "        j = 0\n",
    "        reroll = False\n",
    "        while score-j > 20 and not reroll:\n",
    "            if score-j in available_pieces:\n",
    "                stop = True if random.randint(0,1) == 0 or dice == 0 or len(taken) == 6 else False\n",
    "                reroll = True\n",
    "            j += 1\n",
    "\n",
    "failed = True if 6 not in dice_taken else failed\n",
    "if failed == True:\n",
    "  print(\"What a shame, you win nothing !!!\")\n",
    "else:\n",
    "  print(\"well done, you scored \"+str(score)+\" points with the values :\"+str(dice_taken))"
   ]
  }
 ],
 "metadata": {
  "kernelspec": {
   "display_name": "Python 3",
   "language": "python",
   "name": "python3"
  },
  "language_info": {
   "codemirror_mode": {
    "name": "ipython",
    "version": 3
   },
   "file_extension": ".py",
   "mimetype": "text/x-python",
   "name": "python",
   "nbconvert_exporter": "python",
   "pygments_lexer": "ipython3",
   "version": "3.7.0"
  }
 },
 "nbformat": 4,
 "nbformat_minor": 2
}
