{
 "cells": [
  {
   "cell_type": "code",
   "execution_count": 1,
   "metadata": {},
   "outputs": [],
   "source": [
    "import math\n",
    "available_pieces =  [(21, 1), (22, 1), (23, 1), (24, 1), (25, 2), (26, 2), (27, 2), (28, 2), (29, 3), (30, 3), (31, 3), (32, 3), (33, 4), (34, 4), (35, 4), (36, 4)]"
   ]
  },
  {
   "cell_type": "code",
   "execution_count": 2,
   "metadata": {},
   "outputs": [],
   "source": [
    "class Tree:\n",
    "  def __init__(self):\n",
    "    # How far in the tree are we ?\n",
    "    self.previousValues = []\n",
    "    # Parent \n",
    "    self.parent = None\n",
    "    # Child number\n",
    "    self.childNb = None\n",
    "    # Probability to go into node\n",
    "    self.probability = 1\n",
    "    # Result from the leaf node\n",
    "    self.result = 0\n",
    "    # The six child possibilities for the dice or end turn \n",
    "    self.children = []\n",
    "\n",
    "  def __str__(self, level=0):\n",
    "    #if level == 5:\n",
    "    #  return \"\"\n",
    "    ret = \"\\t\"*level+\"child : \"+repr(self.childNb)+\", previous : \"+repr(self.previousValues)+\", result : \"+repr(self.result)+\", probability : \"+repr(self.probability)+\"\\n\"\n",
    "    if self.children != []:\n",
    "      for child in self.children:\n",
    "        ret += child.__str__(level+1)\n",
    "    return ret\n",
    "  \n",
    "def createNode(node, previousValues, childNb):\n",
    "    newNode = Tree()\n",
    "    newNode.previousValues.extend(node.previousValues)\n",
    "    newNode.previousValues.extend(previousValues)\n",
    "    newNode.parent = node\n",
    "    newNode.childNb = childNb\n",
    "    node.children.append(newNode)\n",
    "    return newNode"
   ]
  },
  {
   "cell_type": "code",
   "execution_count": 3,
   "metadata": {},
   "outputs": [],
   "source": [
    "def nonTerminal(node):\n",
    "    if len(node.previousValues) == 8:\n",
    "        return 0\n",
    "    if len(list(set(node.previousValues))) == 6:\n",
    "        return 0\n",
    "    return 1\n",
    "\n",
    "def CreateMarkovChain(node):\n",
    "    if nonTerminal(node):\n",
    "        for n in range(1,9):\n",
    "            if n + len(node.previousValues) <= 8:\n",
    "                for i in [1,2,3,4,5,\"worm\"]:\n",
    "                    if i not in node.previousValues:\n",
    "                        childNode = createNode(node, [i] * n, i)\n",
    "                        CreateMarkovChain(childNode)\n",
    "            else:\n",
    "                break\n",
    "\n",
    "def IsWinner(node, degree):\n",
    "    if \"worm\" in node.previousValues:\n",
    "        values = [i if i!=\"worm\" else 5 for i in node.previousValues]\n",
    "        if sum(values) > 20:\n",
    "            if degree == 0:\n",
    "                return 1\n",
    "            elif degree == 1:\n",
    "                values = [i if i!=\"worm\" else 5 for i in node.parent.previousValues]\n",
    "                if sum(values) > 20 and \"worm\" in node.parent.previousValues:\n",
    "                    return 0\n",
    "                else:\n",
    "                    return 1\n",
    "    return 0\n",
    "\n",
    "def PruneNonWinningLeaves(node, degree):\n",
    "    if node.children == []:\n",
    "        if not IsWinner(node, degree):\n",
    "            node.parent.children.remove(node)\n",
    "            return 1\n",
    "        else:\n",
    "            return 0\n",
    "    else:\n",
    "        val = 0\n",
    "        index = 0\n",
    "        for i in node.children:\n",
    "            val += PruneNonWinningLeaves(node.children[index], degree)\n",
    "            index += 1\n",
    "        return 1 if val > 0 else 0\n",
    "\n",
    "def PruneNonWinningBranches(node, degree):\n",
    "    while PruneNonWinningLeaves(node, degree):\n",
    "        continue\n",
    "\n",
    "def NodeProbabilityAndResult(node):\n",
    "    probabilityDependingOnNbDice = [[1/6],[10/36, 1/36],[75 / 216 , 15 / 216 , 1 / 216],[500 / 1296 , 150 / 1296 , 20 / 1296 , 1 / 1296],[3125 / 7776 , 1250 / 7776 , 250 / 7776 , 25 / 7776 , 1 / 7776],[18750 / 46656 , 9375 / 46656 , 2500 / 46656 , 375 / 46656 , 30 / 46656 , 1 / 46656],[109375 / 279936 , 65625 / 279936 , 21875 / 279936 , 4375 / 279936 , 525 / 279936 , 35 / 279936 , 1 / 279936],[625000/1679616, 437500/1679616, 175000/1679616, 43750/1679616, 7000/1679616, 700/1679616, 40/1679616, 1/1679616]]\n",
    "    probabilityPerNumber = [1/6, 11/36, 91/216, 671/1296, 4651/7776, 31031/46656, 201811/279936, 1288991/1679616]\n",
    "    if node.children != []:\n",
    "        probability = []\n",
    "        for i in node.children:\n",
    "            # probability.append(1/math.pow(6, i.previousValues.count(i.childNb)))\n",
    "            probability.append(probabilityDependingOnNbDice[7-len(node.previousValues)][i.previousValues.count(i.childNb)-1])\n",
    "        dice_left = 8-len(node.previousValues)-1\n",
    "        sumProb = probabilityPerNumber[dice_left]*6\n",
    "        # sumProb = sum(probability)\n",
    "        probability = [i / sumProb for i in probability]\n",
    "        for i in range(len(node.children)):\n",
    "            node.children[i].probability = probability[i]\n",
    "            NodeProbabilityAndResult(node.children[i])\n",
    "    result(node)\n",
    "\n",
    "# Result for node\n",
    "def result(node):\n",
    "    node.result = 0\n",
    "    if \"worm\" in node.previousValues:\n",
    "        values = [node.previousValues[j] if node.previousValues[j] != \"worm\" else 5 for j in range(len(node.previousValues))]\n",
    "        score = sum(values)\n",
    "        i = 0\n",
    "        while score-i > 20:\n",
    "            if score-i in [k[0] for k in available_pieces]:\n",
    "                node.result = available_pieces[[y[0] for y in available_pieces].index(score-i)][1]\n",
    "                break\n",
    "            i += 1"
   ]
  },
  {
   "cell_type": "code",
   "execution_count": 4,
   "metadata": {},
   "outputs": [],
   "source": [
    "# a = []\n",
    "# for i in range(6):\n",
    "#     for j in range(6):\n",
    "#         for k in range(6):\n",
    "#             if i == 1 or j == 1:\n",
    "#                 a.append(\"1\")\n",
    "# a.count(\"1\")"
   ]
  },
  {
   "cell_type": "code",
   "execution_count": 5,
   "metadata": {},
   "outputs": [],
   "source": [
    "# a = []\n",
    "# for b in range(6):\n",
    "#     for c in range(6):\n",
    "#         # for d in range(6):\n",
    "#             # for e in range(6):\n",
    "#                 # for f in range(6):\n",
    "#                     # for g in range(6):\n",
    "#                         # for h in range(6):\n",
    "#                             # for i in range(6):\n",
    "#                                 a.append([b,c])\n",
    "#                                 # if b == 1 or c == 1 or d == 1 or e == 1 or f == 1 or g == 1 or h == 1 or i == 1:\n",
    "#                                 #     # if (b == 1 and c == 1) or (b == 1 and d == 1) or (c == 1 and d == 1):\n",
    "#                                 #         # if b == 1 and c == 1 and d == 1:\n",
    "#                                 #         if b == 1 and c == 1 and d == 1 and e == 1 and f == 1 and g == 1 and h == 1 and i == 1:\n",
    "#                                 #             a += 1\n",
    "# # print(a)\n",
    "# val = pow(6,2)\n",
    "# print(sum([1 for i in a if i.count(0)==1]),\"/\",val,\",\", sum([1 for i in a if i.count(0)==2]),\"/\",val,\",\", sum([1 for i in a if i.count(0)==3]),\"/\",val,\",\", sum([1 for i in a if i.count(0)==4]),\"/\",val,\",\", sum([1 for i in a if i.count(0)==5]),\"/\",val,\",\", sum([1 for i in a if i.count(0)==6]),\"/\",val,\",\", sum([1 for i in a if i.count(0)==7]),\"/\",val,\",\", sum([1 for i in a if i.count(0)==8]),\"/\",val)\n",
    "# sum([1 for i in a if 0 in i])\n",
    "# print(pow(6,2))\n",
    "# # print(\"occurence : \" + str(a)+ \", throws : \" +str(pow(6,8)))"
   ]
  },
  {
   "cell_type": "code",
   "execution_count": 6,
   "metadata": {},
   "outputs": [],
   "source": [
    "# probabilityDependingOnNbDice = [[1/6],[10/36, 1/36],[75 / 216 , 15 / 216 , 1 / 216],[500 / 1296 , 150 / 1296 , 20 / 1296 , 1 / 1296],[3125 / 7776 , 1250 / 7776 , 250 / 7776 , 25 / 7776 , 1 / 7776],[18750 / 46656 , 9375 / 46656 , 2500 / 46656 , 375 / 46656 , 30 / 46656 , 1 / 46656],[109375 / 279936 , 65625 / 279936 , 21875 / 279936 , 4375 / 279936 , 525 / 279936 , 35 / 279936 , 1 / 279936],[625000/1679616, 437500/1679616, 175000/1679616, 43750/1679616, 7000/1679616, 700/1679616, 40/1679616, 1/1679616]]\n",
    "# probabilityPerNumber = [1/6, 11/36, 91/216, 671/1296, 4651/7776, 31031/46656, 201811/279936, 1288991/1679616]\n",
    "# print(probabilityDependingOnNbDice)"
   ]
  },
  {
   "cell_type": "code",
   "execution_count": 7,
   "metadata": {},
   "outputs": [],
   "source": [
    "markovChain = Tree()\n",
    "CreateMarkovChain(markovChain)\n",
    "NodeProbabilityAndResult(markovChain)\n",
    "# print(markovChain)\n",
    "PruneNonWinningBranches(markovChain, 1)"
   ]
  },
  {
   "cell_type": "code",
   "execution_count": 8,
   "metadata": {},
   "outputs": [
    {
     "name": "stdout",
     "output_type": "stream",
     "text": [
      "child : 1, previous : [3, 3, 4, 1], result : 0, probability : 0.11198308607467929\n",
      "\tchild : 2, previous : [3, 3, 4, 1, 2], result : 0, probability : 0.1241927471435668\n",
      "\t\tchild : 5, previous : [3, 3, 4, 1, 2, 5], result : 0, probability : 0.13736263736263737\n",
      "\t\t\tchild : 'worm', previous : [3, 3, 4, 1, 2, 5, 'worm'], result : 1, probability : 0.15151515151515152\n",
      "\t\t\tchild : 'worm', previous : [3, 3, 4, 1, 2, 5, 'worm', 'worm'], result : 2, probability : 0.01515151515151515\n",
      "\t\tchild : 'worm', previous : [3, 3, 4, 1, 2, 'worm'], result : 0, probability : 0.13736263736263737\n",
      "\t\t\tchild : 5, previous : [3, 3, 4, 1, 2, 'worm', 5], result : 1, probability : 0.15151515151515152\n",
      "\t\t\tchild : 5, previous : [3, 3, 4, 1, 2, 'worm', 5, 5], result : 2, probability : 0.01515151515151515\n",
      "\t\tchild : 5, previous : [3, 3, 4, 1, 2, 5, 5], result : 0, probability : 0.027472527472527476\n",
      "\t\t\tchild : 'worm', previous : [3, 3, 4, 1, 2, 5, 5, 'worm'], result : 2, probability : 0.16666666666666666\n",
      "\t\tchild : 'worm', previous : [3, 3, 4, 1, 2, 'worm', 'worm'], result : 1, probability : 0.027472527472527476\n",
      "\t\tchild : 'worm', previous : [3, 3, 4, 1, 2, 'worm', 'worm', 'worm'], result : 2, probability : 0.0018315018315018315\n",
      "\tchild : 5, previous : [3, 3, 4, 1, 5], result : 0, probability : 0.1241927471435668\n",
      "\t\tchild : 2, previous : [3, 3, 4, 1, 5, 2], result : 0, probability : 0.13736263736263737\n",
      "\t\t\tchild : 'worm', previous : [3, 3, 4, 1, 5, 2, 'worm'], result : 1, probability : 0.15151515151515152\n",
      "\t\t\tchild : 'worm', previous : [3, 3, 4, 1, 5, 2, 'worm', 'worm'], result : 2, probability : 0.01515151515151515\n",
      "\t\tchild : 'worm', previous : [3, 3, 4, 1, 5, 'worm'], result : 1, probability : 0.13736263736263737\n",
      "\t\tchild : 2, previous : [3, 3, 4, 1, 5, 2, 2], result : 0, probability : 0.027472527472527476\n",
      "\t\t\tchild : 'worm', previous : [3, 3, 4, 1, 5, 2, 2, 'worm'], result : 2, probability : 0.16666666666666666\n",
      "\t\tchild : 'worm', previous : [3, 3, 4, 1, 5, 'worm', 'worm'], result : 2, probability : 0.027472527472527476\n",
      "\t\tchild : 'worm', previous : [3, 3, 4, 1, 5, 'worm', 'worm', 'worm'], result : 3, probability : 0.0018315018315018315\n",
      "\tchild : 'worm', previous : [3, 3, 4, 1, 'worm'], result : 0, probability : 0.1241927471435668\n",
      "\t\tchild : 2, previous : [3, 3, 4, 1, 'worm', 2], result : 0, probability : 0.13736263736263737\n",
      "\t\t\tchild : 5, previous : [3, 3, 4, 1, 'worm', 2, 5], result : 1, probability : 0.15151515151515152\n",
      "\t\t\tchild : 5, previous : [3, 3, 4, 1, 'worm', 2, 5, 5], result : 2, probability : 0.01515151515151515\n",
      "\t\tchild : 5, previous : [3, 3, 4, 1, 'worm', 5], result : 1, probability : 0.13736263736263737\n",
      "\t\tchild : 2, previous : [3, 3, 4, 1, 'worm', 2, 2], result : 0, probability : 0.027472527472527476\n",
      "\t\t\tchild : 5, previous : [3, 3, 4, 1, 'worm', 2, 2, 5], result : 2, probability : 0.16666666666666666\n",
      "\t\tchild : 5, previous : [3, 3, 4, 1, 'worm', 5, 5], result : 2, probability : 0.027472527472527476\n",
      "\t\tchild : 2, previous : [3, 3, 4, 1, 'worm', 2, 2, 2], result : 1, probability : 0.0018315018315018315\n",
      "\t\tchild : 5, previous : [3, 3, 4, 1, 'worm', 5, 5, 5], result : 3, probability : 0.0018315018315018315\n",
      "\tchild : 2, previous : [3, 3, 4, 1, 2, 2], result : 0, probability : 0.037257824143070044\n",
      "\t\tchild : 5, previous : [3, 3, 4, 1, 2, 2, 5], result : 0, probability : 0.15151515151515152\n",
      "\t\t\tchild : 'worm', previous : [3, 3, 4, 1, 2, 2, 5, 'worm'], result : 2, probability : 0.16666666666666666\n",
      "\t\tchild : 'worm', previous : [3, 3, 4, 1, 2, 2, 'worm'], result : 0, probability : 0.15151515151515152\n",
      "\t\t\tchild : 5, previous : [3, 3, 4, 1, 2, 2, 'worm', 5], result : 2, probability : 0.16666666666666666\n",
      "\t\tchild : 'worm', previous : [3, 3, 4, 1, 2, 2, 'worm', 'worm'], result : 2, probability : 0.01515151515151515\n",
      "\tchild : 5, previous : [3, 3, 4, 1, 5, 5], result : 0, probability : 0.037257824143070044\n",
      "\t\tchild : 2, previous : [3, 3, 4, 1, 5, 5, 2], result : 0, probability : 0.15151515151515152\n",
      "\t\t\tchild : 'worm', previous : [3, 3, 4, 1, 5, 5, 2, 'worm'], result : 2, probability : 0.16666666666666666\n",
      "\t\tchild : 'worm', previous : [3, 3, 4, 1, 5, 5, 'worm'], result : 2, probability : 0.15151515151515152\n",
      "\t\tchild : 'worm', previous : [3, 3, 4, 1, 5, 5, 'worm', 'worm'], result : 3, probability : 0.01515151515151515\n",
      "\tchild : 'worm', previous : [3, 3, 4, 1, 'worm', 'worm'], result : 1, probability : 0.037257824143070044\n",
      "\tchild : 2, previous : [3, 3, 4, 1, 2, 2, 2], result : 0, probability : 0.004967709885742672\n",
      "\t\tchild : 'worm', previous : [3, 3, 4, 1, 2, 2, 2, 'worm'], result : 1, probability : 0.16666666666666666\n",
      "\tchild : 5, previous : [3, 3, 4, 1, 5, 5, 5], result : 0, probability : 0.004967709885742672\n",
      "\t\tchild : 'worm', previous : [3, 3, 4, 1, 5, 5, 5, 'worm'], result : 3, probability : 0.16666666666666666\n",
      "\tchild : 'worm', previous : [3, 3, 4, 1, 'worm', 'worm', 'worm'], result : 2, probability : 0.004967709885742672\n",
      "\tchild : 'worm', previous : [3, 3, 4, 1, 'worm', 'worm', 'worm', 'worm'], result : 3, probability : 0.0002483854942871336\n",
      "\n"
     ]
    }
   ],
   "source": [
    "markovChain = markovChain.children[8].children[2].children[0]\n",
    "print(markovChain)"
   ]
  },
  {
   "cell_type": "code",
   "execution_count": 9,
   "metadata": {},
   "outputs": [
    {
     "name": "stdout",
     "output_type": "stream",
     "text": [
      "worm\n",
      "5\n",
      "2\n",
      "[0.2337662337662338, 0.398989898989899, 0.09024309024309025]\n"
     ]
    }
   ],
   "source": [
    "def checkNodes(node):\n",
    "    # leaf case \n",
    "    if node.children == []:\n",
    "        return node.probability * node.result\n",
    "    # non leaf cases\n",
    "    value = 0\n",
    "    for i in range(len(node.children)):\n",
    "        value += checkNodes(node.children[i])\n",
    "    return value * node.probability\n",
    "\n",
    "def bestProbabilities(node, rolls):\n",
    "    roll = list( dict.fromkeys(rolls) )\n",
    "    results_check = []\n",
    "    for element in roll:\n",
    "        if element not in node.previousValues:\n",
    "            new_node = node \n",
    "            for i in range(len(new_node.children)):\n",
    "                if rolls.count(element) == new_node.children[i].previousValues.count(element):\n",
    "                    new_node = new_node.children[i]\n",
    "                    results_check.append(checkNodes(new_node)/new_node.probability)\n",
    "                    print(element)\n",
    "                    break\n",
    "    return results_check\n",
    "rolls = [\"worm\", 5, 5, 2, 1]\n",
    "print(bestProbabilities(markovChain, rolls))"
   ]
  },
  {
   "cell_type": "code",
   "execution_count": 10,
   "metadata": {},
   "outputs": [],
   "source": [
    "def treeBuilder(treeStr, node):\n",
    "    if len(node.children) > 0:\n",
    "        treeStr = treeStr + '('\n",
    "        for child in node.children:\n",
    "            treeStr = treeBuilder(treeStr, child)\n",
    "            if not child == node.children[-1]:\n",
    "                treeStr = treeStr + ','\n",
    "            else:\n",
    "                treeStr = treeStr + ')'\n",
    "    for index, value in enumerate(node.previousValues):\n",
    "        if index == 0:\n",
    "            treeStr = treeStr + str(value)\n",
    "        else:\n",
    "            treeStr = treeStr + '_' + str(value)\n",
    "    treeStr = treeStr + ':' + str(node.probability)\n",
    "    \n",
    "    return treeStr\n",
    "            "
   ]
  },
  {
   "cell_type": "code",
   "execution_count": 11,
   "metadata": {},
   "outputs": [],
   "source": [
    "visTree = treeBuilder('', markovChain)"
   ]
  },
  {
   "cell_type": "code",
   "execution_count": 12,
   "metadata": {},
   "outputs": [
    {
     "name": "stdout",
     "output_type": "stream",
     "text": [
      "(((3_3_4_1_2_5_worm:0.15151515151515152,3_3_4_1_2_5_worm_worm:0.01515151515151515)3_3_4_1_2_5:0.13736263736263737,(3_3_4_1_2_worm_5:0.15151515151515152,3_3_4_1_2_worm_5_5:0.01515151515151515)3_3_4_1_2_worm:0.13736263736263737,(3_3_4_1_2_5_5_worm:0.16666666666666666)3_3_4_1_2_5_5:0.027472527472527476,3_3_4_1_2_worm_worm:0.027472527472527476,3_3_4_1_2_worm_worm_worm:0.0018315018315018315)3_3_4_1_2:0.1241927471435668,((3_3_4_1_5_2_worm:0.15151515151515152,3_3_4_1_5_2_worm_worm:0.01515151515151515)3_3_4_1_5_2:0.13736263736263737,3_3_4_1_5_worm:0.13736263736263737,(3_3_4_1_5_2_2_worm:0.16666666666666666)3_3_4_1_5_2_2:0.027472527472527476,3_3_4_1_5_worm_worm:0.027472527472527476,3_3_4_1_5_worm_worm_worm:0.0018315018315018315)3_3_4_1_5:0.1241927471435668,((3_3_4_1_worm_2_5:0.15151515151515152,3_3_4_1_worm_2_5_5:0.01515151515151515)3_3_4_1_worm_2:0.13736263736263737,3_3_4_1_worm_5:0.13736263736263737,(3_3_4_1_worm_2_2_5:0.16666666666666666)3_3_4_1_worm_2_2:0.027472527472527476,3_3_4_1_worm_5_5:0.027472527472527476,3_3_4_1_worm_2_2_2:0.0018315018315018315,3_3_4_1_worm_5_5_5:0.0018315018315018315)3_3_4_1_worm:0.1241927471435668,((3_3_4_1_2_2_5_worm:0.16666666666666666)3_3_4_1_2_2_5:0.15151515151515152,(3_3_4_1_2_2_worm_5:0.16666666666666666)3_3_4_1_2_2_worm:0.15151515151515152,3_3_4_1_2_2_worm_worm:0.01515151515151515)3_3_4_1_2_2:0.037257824143070044,((3_3_4_1_5_5_2_worm:0.16666666666666666)3_3_4_1_5_5_2:0.15151515151515152,3_3_4_1_5_5_worm:0.15151515151515152,3_3_4_1_5_5_worm_worm:0.01515151515151515)3_3_4_1_5_5:0.037257824143070044,3_3_4_1_worm_worm:0.037257824143070044,(3_3_4_1_2_2_2_worm:0.16666666666666666)3_3_4_1_2_2_2:0.004967709885742672,(3_3_4_1_5_5_5_worm:0.16666666666666666)3_3_4_1_5_5_5:0.004967709885742672,3_3_4_1_worm_worm_worm:0.004967709885742672,3_3_4_1_worm_worm_worm_worm:0.0002483854942871336)3_3_4_1:0.11198308607467929;\n"
     ]
    }
   ],
   "source": [
    "visTree = visTree + ';'\n",
    "print(visTree)"
   ]
  },
  {
   "cell_type": "code",
   "execution_count": 13,
   "metadata": {},
   "outputs": [
    {
     "data": {
      "text/plain": [
       "18"
      ]
     },
     "execution_count": 13,
     "metadata": {},
     "output_type": "execute_result"
    }
   ],
   "source": [
    "visTree.count(')')"
   ]
  },
  {
   "cell_type": "code",
   "execution_count": null,
   "metadata": {},
   "outputs": [],
   "source": [
    "import ete3 as ete\n",
    "\n",
    "tree = ete.Tree(visTree, format=1)\n",
    "\n",
    "ts = ete.TreeStyle()\n",
    "lstyle = ete.NodeStyle()\n",
    "lstyle[\"fgcolor\"] = \"blue\"\n",
    "lstyle[\"size\"] = 1.5\n",
    "\n",
    "nstyle = ete.NodeStyle()\n",
    "nstyle[\"fgcolor\"] = \"red\"\n",
    "nstyle[\"size\"] = 3\n",
    "\n",
    "for n in tree.traverse():\n",
    "    #print(n.name, n.is_leaf())\n",
    "    if n.is_leaf():\n",
    "        n.set_style(lstyle)\n",
    "    else:\n",
    "        n.add_face(ete.TextFace(n.name), column=0)\n",
    "        n.set_style(nstyle)\n",
    "\n",
    "#ts.mode = 'c'\n",
    "        \n",
    "tree.show(tree_style = ts)"
   ]
  }
 ],
 "metadata": {
  "kernelspec": {
   "display_name": "Python 3 (ipykernel)",
   "language": "python",
   "name": "python3"
  },
  "language_info": {
   "codemirror_mode": {
    "name": "ipython",
    "version": 3
   },
   "file_extension": ".py",
   "mimetype": "text/x-python",
   "name": "python",
   "nbconvert_exporter": "python",
   "pygments_lexer": "ipython3",
   "version": "3.11.1"
  }
 },
 "nbformat": 4,
 "nbformat_minor": 2
}
